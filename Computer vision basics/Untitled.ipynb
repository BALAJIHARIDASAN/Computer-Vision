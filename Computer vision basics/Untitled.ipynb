{
 "cells": [
  {
   "cell_type": "markdown",
   "id": "565ddb92",
   "metadata": {},
   "source": [
    "<img src=\"https://firebasestorage.googleapis.com/v0/b/deep-learning-crash-course.appspot.com/o/5CNN2.png?alt=media&token=9b2ffe9a-bbe2-40e9-986f-2f47ef012b91\" width=\"950\" align=\"center\"/>"
   ]
  },
  {
   "cell_type": "markdown",
   "id": "42eee3b6",
   "metadata": {},
   "source": [
    "### <font color='Orange'> Convolutional Neural Network </font>\n",
    "\n",
    "<font size=\"3\">**A convolutional neural network, is a network architecture for deep learning which learns directly from data, eliminating the need for manual feature extraction.**</font> \n",
    "\n",
    "<font size=\"3\">**Convolutional neural networks have had great success in certain kinds of problems, such as image recognition. They are particularly useful for finding patterns in images to recognize objects, faces, and scenes. They can also be quite effective for classifying non-image data such as audio, time series, and signal data.**</font> \n",
    "\n",
    "<font size=\"3\">**By definition, a <span style=\"color:#4285F4\">neural network</span> in which at least one layer is a <span style=\"color:#4285F4\">convolutional layer</span> is defined as <span style=\"color:#4285F4\">convolutional neural network</span>.**</font>\n",
    "    \n",
    "<font size=\"3\">**A typical <span style=\"color:#4285F4\">convolutional neural network</span> consists of some combination of the following layers:**</font>\n",
    "\n",
    "><font size=\"3\">**<span style=\"color:#4285F4\">Convolutional layers</span>**</font><br>\n",
    "\n",
    "><font size=\"3\">**<span style=\"color:#4285F4\">Pooling layers</span>**</font><br>\n",
    "\n",
    "><font size=\"3\">**<span style=\"color:#4285F4\">Dense layers</span>**</font><br>"
   ]
  },
  {
   "cell_type": "markdown",
   "id": "253acee0",
   "metadata": {},
   "source": [
    "How Convolutional Neural Network works? \n",
    "Feature Learning \n",
    "A convolutional neural network can have tens or hundreds of layers that each learn to detect different features of an image.\n",
    "\n",
    "Filters are applied to each training image at different resolutions, and the output of each convolved image is used as the input to the next layer.\n",
    "\n",
    "The filters can start as very simple features, such as brightness and edges, and increase in complexity to features that uniquely define the object."
   ]
  },
  {
   "cell_type": "markdown",
   "id": "04f1f9a8",
   "metadata": {},
   "source": [
    "Layers \n",
    "Like other neural networks, a convolutional neural network is composed of\n",
    "\n",
    "an input layer\n",
    "\n",
    "an output layer\n",
    "\n",
    "any hidden layers in between\n",
    "\n",
    "These layers perform operations that alter the data with the intent of learning features specific to the data. Three of the most common layers are:\n",
    "\n",
    "convolution - this puts the input images through a set of convolutional filters, each of which activates certain features from the images.\n",
    "\n",
    "activation - a good combination allows for faster and more effective training because only the activated features are carried forward into the next layer\n",
    "\n",
    "pooling - this simplifies the output by performing nonlinear downsampling, reducing the number of parameters that the network needs to learn"
   ]
  },
  {
   "cell_type": "code",
   "execution_count": null,
   "id": "2a090532",
   "metadata": {},
   "outputs": [],
   "source": []
  }
 ],
 "metadata": {
  "kernelspec": {
   "display_name": "Python 3 (ipykernel)",
   "language": "python",
   "name": "python3"
  },
  "language_info": {
   "codemirror_mode": {
    "name": "ipython",
    "version": 3
   },
   "file_extension": ".py",
   "mimetype": "text/x-python",
   "name": "python",
   "nbconvert_exporter": "python",
   "pygments_lexer": "ipython3",
   "version": "3.7.6"
  }
 },
 "nbformat": 4,
 "nbformat_minor": 5
}
